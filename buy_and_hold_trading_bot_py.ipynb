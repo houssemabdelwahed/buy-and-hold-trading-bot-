{
  "nbformat": 4,
  "nbformat_minor": 0,
  "metadata": {
    "colab": {
      "name": "buy and hold trading bot.py",
      "provenance": [],
      "authorship_tag": "ABX9TyO6mMYFN50zaS2K/Defyeuz"
    },
    "kernelspec": {
      "name": "python3",
      "display_name": "Python 3"
    },
    "language_info": {
      "name": "python"
    }
  },
  "cells": [
    {
      "cell_type": "code",
      "execution_count": 3,
      "metadata": {
        "colab": {
          "base_uri": "https://localhost:8080/"
        },
        "id": "gVLWE-ROTQFy",
        "outputId": "22260c7e-99c9-457c-af33-13a665eab41b"
      },
      "outputs": [
        {
          "output_type": "stream",
          "name": "stdout",
          "text": [
            "Collecting python-binance\n",
            "  Downloading python_binance-1.0.15-py2.py3-none-any.whl (63 kB)\n",
            "\u001b[K     |████████████████████████████████| 63 kB 1.4 MB/s \n",
            "\u001b[?25hCollecting ujson\n",
            "  Downloading ujson-5.1.0-cp37-cp37m-manylinux_2_17_x86_64.manylinux2014_x86_64.whl (43 kB)\n",
            "\u001b[K     |████████████████████████████████| 43 kB 1.0 MB/s \n",
            "\u001b[?25hRequirement already satisfied: requests in /usr/local/lib/python3.7/dist-packages (from python-binance) (2.23.0)\n",
            "Collecting websockets==9.1\n",
            "  Downloading websockets-9.1-cp37-cp37m-manylinux2010_x86_64.whl (103 kB)\n",
            "\u001b[K     |████████████████████████████████| 103 kB 39.1 MB/s \n",
            "\u001b[?25hCollecting aiohttp\n",
            "  Downloading aiohttp-3.8.1-cp37-cp37m-manylinux_2_5_x86_64.manylinux1_x86_64.manylinux_2_12_x86_64.manylinux2010_x86_64.whl (1.1 MB)\n",
            "\u001b[K     |████████████████████████████████| 1.1 MB 9.0 MB/s \n",
            "\u001b[?25hRequirement already satisfied: six in /usr/local/lib/python3.7/dist-packages (from python-binance) (1.15.0)\n",
            "Collecting dateparser\n",
            "  Downloading dateparser-1.1.0-py2.py3-none-any.whl (288 kB)\n",
            "\u001b[K     |████████████████████████████████| 288 kB 10.0 MB/s \n",
            "\u001b[?25hRequirement already satisfied: attrs>=17.3.0 in /usr/local/lib/python3.7/dist-packages (from aiohttp->python-binance) (21.2.0)\n",
            "Requirement already satisfied: typing-extensions>=3.7.4 in /usr/local/lib/python3.7/dist-packages (from aiohttp->python-binance) (3.10.0.2)\n",
            "Collecting async-timeout<5.0,>=4.0.0a3\n",
            "  Downloading async_timeout-4.0.2-py3-none-any.whl (5.8 kB)\n",
            "Requirement already satisfied: charset-normalizer<3.0,>=2.0 in /usr/local/lib/python3.7/dist-packages (from aiohttp->python-binance) (2.0.8)\n",
            "Collecting multidict<7.0,>=4.5\n",
            "  Downloading multidict-5.2.0-cp37-cp37m-manylinux_2_5_x86_64.manylinux1_x86_64.manylinux_2_12_x86_64.manylinux2010_x86_64.whl (160 kB)\n",
            "\u001b[K     |████████████████████████████████| 160 kB 56.0 MB/s \n",
            "\u001b[?25hCollecting aiosignal>=1.1.2\n",
            "  Downloading aiosignal-1.2.0-py3-none-any.whl (8.2 kB)\n",
            "Collecting asynctest==0.13.0\n",
            "  Downloading asynctest-0.13.0-py3-none-any.whl (26 kB)\n",
            "Collecting frozenlist>=1.1.1\n",
            "  Downloading frozenlist-1.2.0-cp37-cp37m-manylinux_2_5_x86_64.manylinux1_x86_64.manylinux_2_12_x86_64.manylinux2010_x86_64.whl (192 kB)\n",
            "\u001b[K     |████████████████████████████████| 192 kB 63.4 MB/s \n",
            "\u001b[?25hCollecting yarl<2.0,>=1.0\n",
            "  Downloading yarl-1.7.2-cp37-cp37m-manylinux_2_5_x86_64.manylinux1_x86_64.manylinux_2_12_x86_64.manylinux2010_x86_64.whl (271 kB)\n",
            "\u001b[K     |████████████████████████████████| 271 kB 29.2 MB/s \n",
            "\u001b[?25hRequirement already satisfied: idna>=2.0 in /usr/local/lib/python3.7/dist-packages (from yarl<2.0,>=1.0->aiohttp->python-binance) (2.10)\n",
            "Requirement already satisfied: python-dateutil in /usr/local/lib/python3.7/dist-packages (from dateparser->python-binance) (2.8.2)\n",
            "Requirement already satisfied: pytz in /usr/local/lib/python3.7/dist-packages (from dateparser->python-binance) (2018.9)\n",
            "Requirement already satisfied: regex!=2019.02.19,!=2021.8.27 in /usr/local/lib/python3.7/dist-packages (from dateparser->python-binance) (2019.12.20)\n",
            "Requirement already satisfied: tzlocal in /usr/local/lib/python3.7/dist-packages (from dateparser->python-binance) (1.5.1)\n",
            "Requirement already satisfied: chardet<4,>=3.0.2 in /usr/local/lib/python3.7/dist-packages (from requests->python-binance) (3.0.4)\n",
            "Requirement already satisfied: certifi>=2017.4.17 in /usr/local/lib/python3.7/dist-packages (from requests->python-binance) (2021.10.8)\n",
            "Requirement already satisfied: urllib3!=1.25.0,!=1.25.1,<1.26,>=1.21.1 in /usr/local/lib/python3.7/dist-packages (from requests->python-binance) (1.24.3)\n",
            "Installing collected packages: multidict, frozenlist, yarl, asynctest, async-timeout, aiosignal, websockets, ujson, dateparser, aiohttp, python-binance\n",
            "Successfully installed aiohttp-3.8.1 aiosignal-1.2.0 async-timeout-4.0.2 asynctest-0.13.0 dateparser-1.1.0 frozenlist-1.2.0 multidict-5.2.0 python-binance-1.0.15 ujson-5.1.0 websockets-9.1 yarl-1.7.2\n"
          ]
        }
      ],
      "source": [
        "pip install python-binance"
      ]
    },
    {
      "cell_type": "code",
      "source": [
        "pip install ta"
      ],
      "metadata": {
        "colab": {
          "base_uri": "https://localhost:8080/"
        },
        "id": "otlS9TYWTSAL",
        "outputId": "06bd2251-ed4b-403f-ae53-1a750cf61daf"
      },
      "execution_count": 1,
      "outputs": [
        {
          "output_type": "stream",
          "name": "stdout",
          "text": [
            "Collecting ta\n",
            "  Downloading ta-0.8.0.tar.gz (24 kB)\n",
            "Requirement already satisfied: numpy in /usr/local/lib/python3.7/dist-packages (from ta) (1.19.5)\n",
            "Requirement already satisfied: pandas in /usr/local/lib/python3.7/dist-packages (from ta) (1.1.5)\n",
            "Requirement already satisfied: pytz>=2017.2 in /usr/local/lib/python3.7/dist-packages (from pandas->ta) (2018.9)\n",
            "Requirement already satisfied: python-dateutil>=2.7.3 in /usr/local/lib/python3.7/dist-packages (from pandas->ta) (2.8.2)\n",
            "Requirement already satisfied: six>=1.5 in /usr/local/lib/python3.7/dist-packages (from python-dateutil>=2.7.3->pandas->ta) (1.15.0)\n",
            "Building wheels for collected packages: ta\n",
            "  Building wheel for ta (setup.py) ... \u001b[?25l\u001b[?25hdone\n",
            "  Created wheel for ta: filename=ta-0.8.0-py3-none-any.whl size=28895 sha256=9e48743298630df9389465ad7f561c6584e444f997951df105e495931592bab3\n",
            "  Stored in directory: /root/.cache/pip/wheels/7e/da/86/65cba22446ae2ef148de2079907264ef27feecfb7f51a45e0d\n",
            "Successfully built ta\n",
            "Installing collected packages: ta\n",
            "Successfully installed ta-0.8.0\n"
          ]
        }
      ]
    },
    {
      "cell_type": "code",
      "source": [
        "import pandas as pd\n",
        "from binance.client import Client\n",
        "import ta\n",
        "\n"
      ],
      "metadata": {
        "id": "VbMntKqrTeJW"
      },
      "execution_count": 4,
      "outputs": []
    },
    {
      "cell_type": "code",
      "source": [
        "klinesT = Client().get_historical_klines(\"BTCUSDT\", Client.KLINE_INTERVAL_1HOUR, \"01 January 2017\")"
      ],
      "metadata": {
        "id": "599KCPiJT67q"
      },
      "execution_count": 5,
      "outputs": []
    },
    {
      "cell_type": "code",
      "source": [
        "df = pd.DataFrame(klinesT, columns = ['timestamp', 'open', 'high', 'low', 'close', 'volume', 'close_time', 'quote_av', 'trades', 'tb_base_av', 'tb_quote_av', 'ignore' ])\n",
        "print(df)"
      ],
      "metadata": {
        "colab": {
          "base_uri": "https://localhost:8080/"
        },
        "id": "skVGmFhZUW1s",
        "outputId": "e3f0516d-c2ee-4a56-8856-06d2bc6725d3"
      },
      "execution_count": 7,
      "outputs": [
        {
          "output_type": "stream",
          "name": "stdout",
          "text": [
            "           timestamp            open  ...        tb_quote_av         ignore\n",
            "0      1502942400000   4261.48000000  ...    150952.47794304  7887.63551305\n",
            "1      1502946000000   4308.83000000  ...     92608.27972836  8039.26240152\n",
            "2      1502949600000   4330.29000000  ...     20795.31722405  8041.76049845\n",
            "3      1502953200000   4316.62000000  ...     11291.34701534  8048.12788573\n",
            "4      1502956800000   4333.32000000  ...      3552.74681715  8018.03650010\n",
            "...              ...             ...  ...                ...            ...\n",
            "37964  1640066400000  48600.50000000  ...  33893956.58406380              0\n",
            "37965  1640070000000  48546.88000000  ...  30650430.19022910              0\n",
            "37966  1640073600000  48579.77000000  ...  72221708.86329550              0\n",
            "37967  1640077200000  48566.43000000  ...  30000512.64933950              0\n",
            "37968  1640080800000  48591.71000000  ...    191723.33890100              0\n",
            "\n",
            "[37969 rows x 12 columns]\n"
          ]
        }
      ]
    },
    {
      "cell_type": "code",
      "source": [
        "del df['ignore']\n",
        "del df['close_time']\n",
        "del df['quote_av']\n",
        "del df['trades']\n",
        "del df['tb_base_av']\n",
        "del df['tb_quote_av']\n",
        "\n",
        "df['close'] = pd.to_numeric(df['close'])\n",
        "df['high'] = pd.to_numeric(df['high'])\n",
        "df['low'] = pd.to_numeric(df['low'])\n",
        "df['open'] = pd.to_numeric(df['open'])\n",
        "df = df.set_index(df['timestamp'])\n",
        "df.index = pd.to_datetime(df.index, unit='ms')\n",
        "\n",
        "del df['timestamp']\n",
        "print(df)"
      ],
      "metadata": {
        "colab": {
          "base_uri": "https://localhost:8080/"
        },
        "id": "jkh-sZJaehla",
        "outputId": "f1304409-10ed-4ddd-ae62-f2da9ba119b4"
      },
      "execution_count": 8,
      "outputs": [
        {
          "output_type": "stream",
          "name": "stdout",
          "text": [
            "                         open      high       low     close         volume\n",
            "timestamp                                                                 \n",
            "2017-08-17 04:00:00   4261.48   4313.62   4261.32   4308.83    47.18100900\n",
            "2017-08-17 05:00:00   4308.83   4328.69   4291.37   4315.32    23.23491600\n",
            "2017-08-17 06:00:00   4330.29   4345.45   4309.37   4324.35     7.22969100\n",
            "2017-08-17 07:00:00   4316.62   4349.99   4287.41   4349.99     4.44324900\n",
            "2017-08-17 08:00:00   4333.32   4377.85   4333.32   4360.69     0.97280700\n",
            "...                       ...       ...       ...       ...            ...\n",
            "2021-12-21 06:00:00  48600.50  48704.17  48331.56  48546.88  1481.32305000\n",
            "2021-12-21 07:00:00  48546.88  48671.56  48412.43  48579.77  1225.43448000\n",
            "2021-12-21 08:00:00  48579.77  49000.00  48512.00  48566.44  2877.38845000\n",
            "2021-12-21 09:00:00  48566.43  48699.00  48438.49  48591.72  1258.33927000\n",
            "2021-12-21 10:00:00  48591.71  48625.00  48571.43  48579.75     9.43433000\n",
            "\n",
            "[37969 rows x 5 columns]\n"
          ]
        }
      ]
    },
    {
      "cell_type": "code",
      "source": [
        "df['SMA200'] = ta.trend.sma_indicator(df['close'], 200)\n",
        "df['SMA600'] = ta.trend.sma_indicator(df['close'], 600)\n",
        "print(df)"
      ],
      "metadata": {
        "colab": {
          "base_uri": "https://localhost:8080/"
        },
        "id": "3ej9kNlwe7TY",
        "outputId": "7f5cbd70-aada-43ed-e67e-87ec31b41ef9"
      },
      "execution_count": 9,
      "outputs": [
        {
          "output_type": "stream",
          "name": "stdout",
          "text": [
            "                         open      high  ...       SMA200        SMA600\n",
            "timestamp                                ...                           \n",
            "2017-08-17 04:00:00   4261.48   4313.62  ...          NaN           NaN\n",
            "2017-08-17 05:00:00   4308.83   4328.69  ...          NaN           NaN\n",
            "2017-08-17 06:00:00   4330.29   4345.45  ...          NaN           NaN\n",
            "2017-08-17 07:00:00   4316.62   4349.99  ...          NaN           NaN\n",
            "2017-08-17 08:00:00   4333.32   4377.85  ...          NaN           NaN\n",
            "...                       ...       ...  ...          ...           ...\n",
            "2021-12-21 06:00:00  48600.50  48704.17  ...  47438.41485  50753.723483\n",
            "2021-12-21 07:00:00  48546.88  48671.56  ...  47431.04420  50739.760000\n",
            "2021-12-21 08:00:00  48579.77  49000.00  ...  47425.72310  50728.685900\n",
            "2021-12-21 09:00:00  48566.43  48699.00  ...  47425.69415  50718.215050\n",
            "2021-12-21 10:00:00  48591.71  48625.00  ...  47424.74080  50708.524983\n",
            "\n",
            "[37969 rows x 7 columns]\n"
          ]
        }
      ]
    },
    {
      "cell_type": "code",
      "source": [
        "usdt = 100\n",
        "btc = 0\n",
        "lastIndex = df.first_valid_index()\n",
        "\n",
        "for index, row in df.iterrows():\n",
        "  if df['SMA200'][lastIndex] > df['SMA600'][lastIndex] and usdt > 10:\n",
        "    btc = usdt / df['close'][index] \n",
        "    btc = btc - 0.0007 * btc\n",
        "    usdt = 0\n",
        "    print(\"Buy BTC at\",df['close'][index],'$ the', index)\n",
        "\n",
        "  if df['SMA200'][lastIndex] < df['SMA600'][lastIndex] and btc > 0.0001:\n",
        "    usdt = btc * df['close'][index]\n",
        "    usdt = usdt - 0.0007 * usdt\n",
        "    btc = 0\n",
        "    print(\"Sell BTC at\",df['close'][index],'$ the', index)\n",
        "  lastIndex = index"
      ],
      "metadata": {
        "colab": {
          "base_uri": "https://localhost:8080/"
        },
        "id": "wLaqNTkyfICh",
        "outputId": "5be6d6a9-4b11-4bbe-cdae-09c66ae05017"
      },
      "execution_count": 10,
      "outputs": [
        {
          "output_type": "stream",
          "name": "stdout",
          "text": [
            "Buy BTC at 4191.53 $ the 2017-09-11 11:00:00\n",
            "Sell BTC at 4259.44 $ the 2017-09-12 13:00:00\n",
            "Buy BTC at 4302.02 $ the 2017-10-01 08:00:00\n",
            "Sell BTC at 16351.02 $ the 2017-12-27 05:00:00\n",
            "Buy BTC at 14219.61 $ the 2018-01-10 06:00:00\n",
            "Sell BTC at 14195.0 $ the 2018-01-15 12:00:00\n",
            "Buy BTC at 10940.0 $ the 2018-02-19 17:00:00\n",
            "Sell BTC at 8704.0 $ the 2018-03-11 07:00:00\n",
            "Buy BTC at 8018.98 $ the 2018-04-16 21:00:00\n",
            "Sell BTC at 8665.97 $ the 2018-05-14 00:00:00\n",
            "Buy BTC at 6584.36 $ the 2018-07-07 10:00:00\n",
            "Sell BTC at 7087.99 $ the 2018-08-07 11:00:00\n",
            "Buy BTC at 6902.74 $ the 2018-08-28 04:00:00\n",
            "Sell BTC at 6355.0 $ the 2018-09-11 03:00:00\n",
            "Buy BTC at 6669.36 $ the 2018-09-27 19:00:00\n",
            "Sell BTC at 6309.02 $ the 2018-10-12 22:00:00\n",
            "Buy BTC at 6573.58 $ the 2018-10-20 10:00:00\n",
            "Sell BTC at 6491.85 $ the 2018-10-28 10:00:00\n",
            "Buy BTC at 4125.4 $ the 2018-12-24 04:00:00\n",
            "Sell BTC at 3588.24 $ the 2019-01-13 02:00:00\n",
            "Buy BTC at 3626.58 $ the 2019-02-12 04:00:00\n",
            "Sell BTC at 7660.98 $ the 2019-06-09 18:00:00\n",
            "Buy BTC at 9105.21 $ the 2019-06-17 06:00:00\n",
            "Sell BTC at 9431.52 $ the 2019-07-17 04:00:00\n",
            "Buy BTC at 11692.8 $ the 2019-08-06 01:00:00\n",
            "Sell BTC at 10886.0 $ the 2019-08-20 01:00:00\n",
            "Buy BTC at 10541.4 $ the 2019-09-08 03:00:00\n",
            "Sell BTC at 10028.87 $ the 2019-09-22 23:00:00\n",
            "Buy BTC at 9660.0 $ the 2019-10-27 17:00:00\n",
            "Sell BTC at 8564.64 $ the 2019-11-15 05:00:00\n",
            "Buy BTC at 7206.3 $ the 2019-12-27 00:00:00\n",
            "Sell BTC at 9601.09 $ the 2020-02-24 19:00:00\n",
            "Buy BTC at 6368.68 $ the 2020-04-01 03:00:00\n",
            "Sell BTC at 8859.62 $ the 2020-05-27 04:00:00\n",
            "Buy BTC at 10115.56 $ the 2020-06-02 11:00:00\n",
            "Sell BTC at 9403.01 $ the 2020-06-18 13:00:00\n",
            "Buy BTC at 9290.23 $ the 2020-07-13 18:00:00\n",
            "Sell BTC at 9117.69 $ the 2020-07-17 10:00:00\n",
            "Buy BTC at 9164.57 $ the 2020-07-18 16:00:00\n",
            "Sell BTC at 11400.12 $ the 2020-08-27 01:00:00\n",
            "Buy BTC at 10417.22 $ the 2020-09-21 23:00:00\n",
            "Sell BTC at 10571.36 $ the 2020-10-06 19:00:00\n",
            "Buy BTC at 11363.33 $ the 2020-10-10 18:00:00\n",
            "Sell BTC at 32801.15 $ the 2021-01-24 07:00:00\n",
            "Buy BTC at 37366.02 $ the 2021-02-05 03:00:00\n",
            "Sell BTC at 47789.87 $ the 2021-03-02 22:00:00\n",
            "Buy BTC at 54632.79 $ the 2021-03-10 08:00:00\n",
            "Sell BTC at 57854.32 $ the 2021-03-29 11:00:00\n",
            "Buy BTC at 58670.64 $ the 2021-04-02 20:00:00\n",
            "Sell BTC at 54744.24 $ the 2021-04-22 14:00:00\n",
            "Buy BTC at 57584.01 $ the 2021-05-07 19:00:00\n",
            "Sell BTC at 47964.69 $ the 2021-05-15 22:00:00\n",
            "Buy BTC at 39952.7 $ the 2021-06-16 09:00:00\n",
            "Sell BTC at 33982.26 $ the 2021-06-23 07:00:00\n",
            "Buy BTC at 38242.96 $ the 2021-07-27 14:00:00\n",
            "Sell BTC at 45150.33 $ the 2021-09-12 06:00:00\n",
            "Buy BTC at 49476.51 $ the 2021-10-05 07:00:00\n",
            "Sell BTC at 56989.77 $ the 2021-11-19 09:00:00\n"
          ]
        }
      ]
    },
    {
      "cell_type": "code",
      "source": [
        "finalResult = usdt + btc * df['close'].iloc[-1]\n",
        "print(\"Final result\",finalResult,'USDT')"
      ],
      "metadata": {
        "colab": {
          "base_uri": "https://localhost:8080/"
        },
        "id": "w8xImg1EfMrw",
        "outputId": "55f9ff1f-0bd7-46f6-aace-85ddd33374df"
      },
      "execution_count": 14,
      "outputs": [
        {
          "output_type": "stream",
          "name": "stdout",
          "text": [
            "Final result 3304.4551077017404 USDT\n"
          ]
        }
      ]
    },
    {
      "cell_type": "code",
      "source": [
        "print(\"Buy and hold result\", (1000 / df['close'].iloc[0]) * df['close'].iloc[-1],'USDT')"
      ],
      "metadata": {
        "colab": {
          "base_uri": "https://localhost:8080/"
        },
        "id": "UpPyA3hDfVr2",
        "outputId": "107c6416-9e9c-4573-b7fc-c5df71b6f620"
      },
      "execution_count": 15,
      "outputs": [
        {
          "output_type": "stream",
          "name": "stdout",
          "text": [
            "Buy and hold result 11274.464297732797 USDT\n"
          ]
        }
      ]
    },
    {
      "cell_type": "code",
      "source": [
        ""
      ],
      "metadata": {
        "id": "gshifLjzfaJI"
      },
      "execution_count": null,
      "outputs": []
    }
  ]
}